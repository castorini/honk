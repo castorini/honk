{
 "cells": [
  {
   "cell_type": "code",
   "execution_count": 1,
   "metadata": {
    "collapsed": false
   },
   "outputs": [],
   "source": [
    "import numpy as np\n",
    "import pandas as pd\n",
    "import matplotlib.pyplot as plt\n",
    "import seaborn as sns\n",
    "from scipy import stats\n",
    "\n",
    "def r2(x, y):\n",
    "    return stats.pearsonr(x, y)[0] ** 2"
   ]
  },
  {
   "cell_type": "code",
   "execution_count": 2,
   "metadata": {
    "collapsed": true
   },
   "outputs": [],
   "source": [
    "%matplotlib inline"
   ]
  },
  {
   "cell_type": "markdown",
   "metadata": {},
   "source": [
    "# Preparing Data"
   ]
  },
  {
   "cell_type": "code",
   "execution_count": 3,
   "metadata": {
    "collapsed": true
   },
   "outputs": [],
   "source": [
    "test_counts = {'yes': 256, 'no': 252, 'up': 272, 'down': 253, 'left': 267, 'right': 259, 'on': 246, 'off': 262, 'stop': 249, 'go': 251}\n",
    "param_counts = {\n",
    "    'cnn_one_fstride4': {\n",
    "        'params': 220000,\n",
    "        'multiplies': 1430000\n",
    "    },\n",
    "    'cnn_one_fstride8': {\n",
    "        'params': 337000,\n",
    "        'multiplies': 1430000\n",
    "    },\n",
    "    'cnn_tpool2': {\n",
    "        'params': 1090000,\n",
    "        'multiplies': 103000000\n",
    "    },\n",
    "    'cnn_tpool3': {\n",
    "        'params': 823000,\n",
    "        'multiplies': 73700000\n",
    "    },\n",
    "    'cnn_trad_fpool3': {\n",
    "        'params': 1370000,\n",
    "        'multiplies': 125000000\n",
    "    },\n",
    "    'google-speech-dataset-compact': {\n",
    "        'params': 964000,\n",
    "        'multiplies': 5760000\n",
    "    },\n",
    "    'google-speech-dataset-full': {\n",
    "        'params': 1380000,\n",
    "        'multiplies': 98800000\n",
    "    }\n",
    "}"
   ]
  },
  {
   "cell_type": "code",
   "execution_count": 4,
   "metadata": {
    "collapsed": true
   },
   "outputs": [],
   "source": [
    "def get_observations(fname):\n",
    "    observations = {'model': [], 'keyword': [], 'accuracy': [], 'time': [], 'total_energy': [], 'peak_power': [], 'params': [], 'multiplies': []}\n",
    "    with open(fname, 'r') as f:\n",
    "        for _ in range(7):\n",
    "            for i in range(10):\n",
    "                line = f.readline().rstrip()\n",
    "                parts = line.split(' ')\n",
    "                model, keyword, accuracy, time, total_energy, peak_power = parts\n",
    "                model = model.rstrip('\\.onnx')\n",
    "                accuracy, time, total_energy, peak_power = list(map(float, [accuracy, time, total_energy, peak_power]))\n",
    "                accuracy *= 100\n",
    "                total_energy = 1000 * (total_energy - 1.9*time)\n",
    "                time *= 1000\n",
    "                peak_power -= 1.9\n",
    "                observations['model'].append(model)\n",
    "                observations['keyword'].append(keyword)\n",
    "                observations['accuracy'].append(accuracy)\n",
    "                observations['time'].append(time / test_counts[keyword])\n",
    "                observations['total_energy'].append(total_energy / test_counts[keyword])\n",
    "                observations['peak_power'].append(peak_power)\n",
    "                observations['params'].append(param_counts[model]['params'])\n",
    "                observations['multiplies'].append(param_counts[model]['multiplies'])\n",
    "\n",
    "            for i in range(6):\n",
    "                line = f.readline()\n",
    "    \n",
    "    return observations"
   ]
  },
  {
   "cell_type": "code",
   "execution_count": 6,
   "metadata": {
    "collapsed": false
   },
   "outputs": [],
   "source": [
    "df = pd.DataFrame(get_observations('experiment_output_e2e.txt'))"
   ]
  },
  {
   "cell_type": "code",
   "execution_count": 7,
   "metadata": {
    "collapsed": false
   },
   "outputs": [
    {
     "data": {
      "text/html": [
       "<div>\n",
       "<table border=\"1\" class=\"dataframe\">\n",
       "  <thead>\n",
       "    <tr style=\"text-align: right;\">\n",
       "      <th></th>\n",
       "      <th>accuracy</th>\n",
       "      <th>keyword</th>\n",
       "      <th>model</th>\n",
       "      <th>multiplies</th>\n",
       "      <th>params</th>\n",
       "      <th>peak_power</th>\n",
       "      <th>time</th>\n",
       "      <th>total_energy</th>\n",
       "    </tr>\n",
       "  </thead>\n",
       "  <tbody>\n",
       "    <tr>\n",
       "      <th>0</th>\n",
       "      <td>90.6</td>\n",
       "      <td>yes</td>\n",
       "      <td>cnn_trad_fpool3</td>\n",
       "      <td>125000000</td>\n",
       "      <td>1370000</td>\n",
       "      <td>2.2</td>\n",
       "      <td>228.125000</td>\n",
       "      <td>430.625000</td>\n",
       "    </tr>\n",
       "    <tr>\n",
       "      <th>1</th>\n",
       "      <td>82.9</td>\n",
       "      <td>no</td>\n",
       "      <td>cnn_trad_fpool3</td>\n",
       "      <td>125000000</td>\n",
       "      <td>1370000</td>\n",
       "      <td>2.2</td>\n",
       "      <td>229.365079</td>\n",
       "      <td>431.666667</td>\n",
       "    </tr>\n",
       "    <tr>\n",
       "      <th>2</th>\n",
       "      <td>91.5</td>\n",
       "      <td>up</td>\n",
       "      <td>cnn_trad_fpool3</td>\n",
       "      <td>125000000</td>\n",
       "      <td>1370000</td>\n",
       "      <td>2.2</td>\n",
       "      <td>229.411765</td>\n",
       "      <td>438.750000</td>\n",
       "    </tr>\n",
       "    <tr>\n",
       "      <th>3</th>\n",
       "      <td>92.1</td>\n",
       "      <td>down</td>\n",
       "      <td>cnn_trad_fpool3</td>\n",
       "      <td>125000000</td>\n",
       "      <td>1370000</td>\n",
       "      <td>2.2</td>\n",
       "      <td>227.272727</td>\n",
       "      <td>434.584980</td>\n",
       "    </tr>\n",
       "    <tr>\n",
       "      <th>4</th>\n",
       "      <td>90.3</td>\n",
       "      <td>left</td>\n",
       "      <td>cnn_trad_fpool3</td>\n",
       "      <td>125000000</td>\n",
       "      <td>1370000</td>\n",
       "      <td>2.2</td>\n",
       "      <td>224.719101</td>\n",
       "      <td>426.966292</td>\n",
       "    </tr>\n",
       "  </tbody>\n",
       "</table>\n",
       "</div>"
      ],
      "text/plain": [
       "   accuracy keyword            model  multiplies   params  peak_power  \\\n",
       "0      90.6     yes  cnn_trad_fpool3   125000000  1370000         2.2   \n",
       "1      82.9      no  cnn_trad_fpool3   125000000  1370000         2.2   \n",
       "2      91.5      up  cnn_trad_fpool3   125000000  1370000         2.2   \n",
       "3      92.1    down  cnn_trad_fpool3   125000000  1370000         2.2   \n",
       "4      90.3    left  cnn_trad_fpool3   125000000  1370000         2.2   \n",
       "\n",
       "         time  total_energy  \n",
       "0  228.125000    430.625000  \n",
       "1  229.365079    431.666667  \n",
       "2  229.411765    438.750000  \n",
       "3  227.272727    434.584980  \n",
       "4  224.719101    426.966292  "
      ]
     },
     "execution_count": 7,
     "metadata": {},
     "output_type": "execute_result"
    }
   ],
   "source": [
    "df.head()"
   ]
  },
  {
   "cell_type": "code",
   "execution_count": 8,
   "metadata": {
    "collapsed": false
   },
   "outputs": [
    {
     "data": {
      "text/html": [
       "<div>\n",
       "<table border=\"1\" class=\"dataframe\">\n",
       "  <thead>\n",
       "    <tr style=\"text-align: right;\">\n",
       "      <th></th>\n",
       "      <th>accuracy</th>\n",
       "      <th>keyword</th>\n",
       "      <th>model</th>\n",
       "      <th>multiplies</th>\n",
       "      <th>params</th>\n",
       "      <th>peak_power</th>\n",
       "      <th>time</th>\n",
       "      <th>total_energy</th>\n",
       "    </tr>\n",
       "  </thead>\n",
       "  <tbody>\n",
       "    <tr>\n",
       "      <th>0</th>\n",
       "      <td>0.0</td>\n",
       "      <td>yes</td>\n",
       "      <td>cnn_one_fstride4</td>\n",
       "      <td>1430000</td>\n",
       "      <td>220000</td>\n",
       "      <td>0.8</td>\n",
       "      <td>30.468750</td>\n",
       "      <td>18.281250</td>\n",
       "    </tr>\n",
       "    <tr>\n",
       "      <th>1</th>\n",
       "      <td>0.0</td>\n",
       "      <td>no</td>\n",
       "      <td>cnn_one_fstride4</td>\n",
       "      <td>1430000</td>\n",
       "      <td>220000</td>\n",
       "      <td>0.8</td>\n",
       "      <td>30.555556</td>\n",
       "      <td>20.119048</td>\n",
       "    </tr>\n",
       "    <tr>\n",
       "      <th>2</th>\n",
       "      <td>0.0</td>\n",
       "      <td>up</td>\n",
       "      <td>cnn_one_fstride4</td>\n",
       "      <td>1430000</td>\n",
       "      <td>220000</td>\n",
       "      <td>0.8</td>\n",
       "      <td>30.514706</td>\n",
       "      <td>14.816176</td>\n",
       "    </tr>\n",
       "    <tr>\n",
       "      <th>3</th>\n",
       "      <td>0.0</td>\n",
       "      <td>down</td>\n",
       "      <td>cnn_one_fstride4</td>\n",
       "      <td>1430000</td>\n",
       "      <td>220000</td>\n",
       "      <td>0.8</td>\n",
       "      <td>30.830040</td>\n",
       "      <td>18.498024</td>\n",
       "    </tr>\n",
       "    <tr>\n",
       "      <th>4</th>\n",
       "      <td>0.0</td>\n",
       "      <td>left</td>\n",
       "      <td>cnn_one_fstride4</td>\n",
       "      <td>1430000</td>\n",
       "      <td>220000</td>\n",
       "      <td>0.8</td>\n",
       "      <td>30.337079</td>\n",
       "      <td>25.131086</td>\n",
       "    </tr>\n",
       "  </tbody>\n",
       "</table>\n",
       "</div>"
      ],
      "text/plain": [
       "   accuracy keyword             model  multiplies  params  peak_power  \\\n",
       "0       0.0     yes  cnn_one_fstride4     1430000  220000         0.8   \n",
       "1       0.0      no  cnn_one_fstride4     1430000  220000         0.8   \n",
       "2       0.0      up  cnn_one_fstride4     1430000  220000         0.8   \n",
       "3       0.0    down  cnn_one_fstride4     1430000  220000         0.8   \n",
       "4       0.0    left  cnn_one_fstride4     1430000  220000         0.8   \n",
       "\n",
       "        time  total_energy  \n",
       "0  30.468750     18.281250  \n",
       "1  30.555556     20.119048  \n",
       "2  30.514706     14.816176  \n",
       "3  30.830040     18.498024  \n",
       "4  30.337079     25.131086  "
      ]
     },
     "execution_count": 8,
     "metadata": {},
     "output_type": "execute_result"
    }
   ],
   "source": [
    "df_pre = pd.DataFrame(get_observations('experiment_output_preprocessing.txt'))\n",
    "df_pre.head()"
   ]
  },
  {
   "cell_type": "markdown",
   "metadata": {
    "collapsed": true
   },
   "source": [
    "# Analysis"
   ]
  },
  {
   "cell_type": "code",
   "execution_count": 9,
   "metadata": {
    "collapsed": true
   },
   "outputs": [],
   "source": [
    "df_grouped = df.groupby('model')"
   ]
  },
  {
   "cell_type": "code",
   "execution_count": 10,
   "metadata": {
    "collapsed": false
   },
   "outputs": [],
   "source": [
    "df_grouped_means = df_grouped['accuracy', 'total_energy', 'peak_power', 'time', 'params', 'multiplies'].mean()"
   ]
  },
  {
   "cell_type": "code",
   "execution_count": 11,
   "metadata": {
    "collapsed": false
   },
   "outputs": [
    {
     "data": {
      "text/html": [
       "<div>\n",
       "<table border=\"1\" class=\"dataframe\">\n",
       "  <thead>\n",
       "    <tr style=\"text-align: right;\">\n",
       "      <th></th>\n",
       "      <th>accuracy</th>\n",
       "      <th>total_energy</th>\n",
       "      <th>peak_power</th>\n",
       "      <th>time</th>\n",
       "      <th>params</th>\n",
       "      <th>multiplies</th>\n",
       "    </tr>\n",
       "    <tr>\n",
       "      <th>model</th>\n",
       "      <th></th>\n",
       "      <th></th>\n",
       "      <th></th>\n",
       "      <th></th>\n",
       "      <th></th>\n",
       "      <th></th>\n",
       "    </tr>\n",
       "  </thead>\n",
       "  <tbody>\n",
       "    <tr>\n",
       "      <th>cnn_one_fstride4</th>\n",
       "      <td>70.28</td>\n",
       "      <td>28.11</td>\n",
       "      <td>0.99</td>\n",
       "      <td>40.47</td>\n",
       "      <td>220000</td>\n",
       "      <td>1430000</td>\n",
       "    </tr>\n",
       "    <tr>\n",
       "      <th>cnn_one_fstride8</th>\n",
       "      <td>67.90</td>\n",
       "      <td>28.74</td>\n",
       "      <td>1.02</td>\n",
       "      <td>42.14</td>\n",
       "      <td>337000</td>\n",
       "      <td>1430000</td>\n",
       "    </tr>\n",
       "    <tr>\n",
       "      <th>cnn_tpool2</th>\n",
       "      <td>91.97</td>\n",
       "      <td>384.05</td>\n",
       "      <td>2.21</td>\n",
       "      <td>204.28</td>\n",
       "      <td>1090000</td>\n",
       "      <td>103000000</td>\n",
       "    </tr>\n",
       "    <tr>\n",
       "      <th>cnn_tpool3</th>\n",
       "      <td>91.23</td>\n",
       "      <td>278.86</td>\n",
       "      <td>2.16</td>\n",
       "      <td>158.75</td>\n",
       "      <td>823000</td>\n",
       "      <td>73700000</td>\n",
       "    </tr>\n",
       "    <tr>\n",
       "      <th>cnn_trad_fpool3</th>\n",
       "      <td>89.43</td>\n",
       "      <td>431.10</td>\n",
       "      <td>2.20</td>\n",
       "      <td>227.07</td>\n",
       "      <td>1370000</td>\n",
       "      <td>125000000</td>\n",
       "    </tr>\n",
       "    <tr>\n",
       "      <th>google-speech-dataset-compact</th>\n",
       "      <td>77.06</td>\n",
       "      <td>115.07</td>\n",
       "      <td>1.52</td>\n",
       "      <td>99.94</td>\n",
       "      <td>964000</td>\n",
       "      <td>5760000</td>\n",
       "    </tr>\n",
       "    <tr>\n",
       "      <th>google-speech-dataset-full</th>\n",
       "      <td>87.51</td>\n",
       "      <td>305.88</td>\n",
       "      <td>2.60</td>\n",
       "      <td>145.52</td>\n",
       "      <td>1380000</td>\n",
       "      <td>98800000</td>\n",
       "    </tr>\n",
       "  </tbody>\n",
       "</table>\n",
       "</div>"
      ],
      "text/plain": [
       "                               accuracy  total_energy  peak_power    time  \\\n",
       "model                                                                       \n",
       "cnn_one_fstride4                  70.28         28.11        0.99   40.47   \n",
       "cnn_one_fstride8                  67.90         28.74        1.02   42.14   \n",
       "cnn_tpool2                        91.97        384.05        2.21  204.28   \n",
       "cnn_tpool3                        91.23        278.86        2.16  158.75   \n",
       "cnn_trad_fpool3                   89.43        431.10        2.20  227.07   \n",
       "google-speech-dataset-compact     77.06        115.07        1.52   99.94   \n",
       "google-speech-dataset-full        87.51        305.88        2.60  145.52   \n",
       "\n",
       "                                params  multiplies  \n",
       "model                                               \n",
       "cnn_one_fstride4                220000     1430000  \n",
       "cnn_one_fstride8                337000     1430000  \n",
       "cnn_tpool2                     1090000   103000000  \n",
       "cnn_tpool3                      823000    73700000  \n",
       "cnn_trad_fpool3                1370000   125000000  \n",
       "google-speech-dataset-compact   964000     5760000  \n",
       "google-speech-dataset-full     1380000    98800000  "
      ]
     },
     "execution_count": 11,
     "metadata": {},
     "output_type": "execute_result"
    }
   ],
   "source": [
    "df_grouped_means.round(2)"
   ]
  },
  {
   "cell_type": "code",
   "execution_count": 12,
   "metadata": {
    "collapsed": false
   },
   "outputs": [
    {
     "data": {
      "text/html": [
       "<div>\n",
       "<table border=\"1\" class=\"dataframe\">\n",
       "  <thead>\n",
       "    <tr style=\"text-align: right;\">\n",
       "      <th></th>\n",
       "      <th>accuracy</th>\n",
       "      <th>total_energy</th>\n",
       "      <th>peak_power</th>\n",
       "      <th>time</th>\n",
       "      <th>params</th>\n",
       "      <th>multiplies</th>\n",
       "    </tr>\n",
       "    <tr>\n",
       "      <th>model</th>\n",
       "      <th></th>\n",
       "      <th></th>\n",
       "      <th></th>\n",
       "      <th></th>\n",
       "      <th></th>\n",
       "      <th></th>\n",
       "    </tr>\n",
       "  </thead>\n",
       "  <tbody>\n",
       "    <tr>\n",
       "      <th>cnn_one_fstride4</th>\n",
       "      <td>0.0</td>\n",
       "      <td>18.325887</td>\n",
       "      <td>0.79</td>\n",
       "      <td>30.503119</td>\n",
       "      <td>220000</td>\n",
       "      <td>1430000</td>\n",
       "    </tr>\n",
       "    <tr>\n",
       "      <th>cnn_one_fstride8</th>\n",
       "      <td>0.0</td>\n",
       "      <td>18.419090</td>\n",
       "      <td>0.80</td>\n",
       "      <td>30.350051</td>\n",
       "      <td>337000</td>\n",
       "      <td>1430000</td>\n",
       "    </tr>\n",
       "    <tr>\n",
       "      <th>cnn_tpool2</th>\n",
       "      <td>0.0</td>\n",
       "      <td>19.148509</td>\n",
       "      <td>0.79</td>\n",
       "      <td>30.890965</td>\n",
       "      <td>1090000</td>\n",
       "      <td>103000000</td>\n",
       "    </tr>\n",
       "    <tr>\n",
       "      <th>cnn_tpool3</th>\n",
       "      <td>0.0</td>\n",
       "      <td>19.175226</td>\n",
       "      <td>0.79</td>\n",
       "      <td>30.774251</td>\n",
       "      <td>823000</td>\n",
       "      <td>73700000</td>\n",
       "    </tr>\n",
       "    <tr>\n",
       "      <th>cnn_trad_fpool3</th>\n",
       "      <td>0.0</td>\n",
       "      <td>19.608814</td>\n",
       "      <td>0.83</td>\n",
       "      <td>31.324518</td>\n",
       "      <td>1370000</td>\n",
       "      <td>125000000</td>\n",
       "    </tr>\n",
       "    <tr>\n",
       "      <th>google-speech-dataset-compact</th>\n",
       "      <td>0.0</td>\n",
       "      <td>20.942512</td>\n",
       "      <td>0.82</td>\n",
       "      <td>32.021820</td>\n",
       "      <td>964000</td>\n",
       "      <td>5760000</td>\n",
       "    </tr>\n",
       "    <tr>\n",
       "      <th>google-speech-dataset-full</th>\n",
       "      <td>0.0</td>\n",
       "      <td>18.699125</td>\n",
       "      <td>0.81</td>\n",
       "      <td>31.048824</td>\n",
       "      <td>1380000</td>\n",
       "      <td>98800000</td>\n",
       "    </tr>\n",
       "  </tbody>\n",
       "</table>\n",
       "</div>"
      ],
      "text/plain": [
       "                               accuracy  total_energy  peak_power       time  \\\n",
       "model                                                                          \n",
       "cnn_one_fstride4                    0.0     18.325887        0.79  30.503119   \n",
       "cnn_one_fstride8                    0.0     18.419090        0.80  30.350051   \n",
       "cnn_tpool2                          0.0     19.148509        0.79  30.890965   \n",
       "cnn_tpool3                          0.0     19.175226        0.79  30.774251   \n",
       "cnn_trad_fpool3                     0.0     19.608814        0.83  31.324518   \n",
       "google-speech-dataset-compact       0.0     20.942512        0.82  32.021820   \n",
       "google-speech-dataset-full          0.0     18.699125        0.81  31.048824   \n",
       "\n",
       "                                params  multiplies  \n",
       "model                                               \n",
       "cnn_one_fstride4                220000     1430000  \n",
       "cnn_one_fstride8                337000     1430000  \n",
       "cnn_tpool2                     1090000   103000000  \n",
       "cnn_tpool3                      823000    73700000  \n",
       "cnn_trad_fpool3                1370000   125000000  \n",
       "google-speech-dataset-compact   964000     5760000  \n",
       "google-speech-dataset-full     1380000    98800000  "
      ]
     },
     "execution_count": 12,
     "metadata": {},
     "output_type": "execute_result"
    }
   ],
   "source": [
    "df_pre_grouped = df_pre.groupby('model')\n",
    "df_pre_grouped_means = df_pre_grouped['accuracy', 'total_energy', 'peak_power', 'time', 'params', 'multiplies'].mean()\n",
    "df_pre_grouped_means"
   ]
  },
  {
   "cell_type": "code",
   "execution_count": 13,
   "metadata": {
    "collapsed": false
   },
   "outputs": [
    {
     "data": {
      "text/plain": [
       "30.98764959198933"
      ]
     },
     "execution_count": 13,
     "metadata": {},
     "output_type": "execute_result"
    }
   ],
   "source": [
    "df_pre_grouped_means['time'].mean()"
   ]
  },
  {
   "cell_type": "code",
   "execution_count": 14,
   "metadata": {
    "collapsed": false
   },
   "outputs": [
    {
     "data": {
      "text/plain": [
       "19.188451964409353"
      ]
     },
     "execution_count": 14,
     "metadata": {},
     "output_type": "execute_result"
    }
   ],
   "source": [
    "df_pre_grouped_means['total_energy'].mean()"
   ]
  },
  {
   "cell_type": "code",
   "execution_count": 15,
   "metadata": {
    "collapsed": false
   },
   "outputs": [
    {
     "data": {
      "text/plain": [
       "0.8042857142857146"
      ]
     },
     "execution_count": 15,
     "metadata": {},
     "output_type": "execute_result"
    }
   ],
   "source": [
    "df_pre_grouped_means['peak_power'].mean()"
   ]
  },
  {
   "cell_type": "code",
   "execution_count": 16,
   "metadata": {
    "collapsed": false
   },
   "outputs": [
    {
     "data": {
      "text/html": [
       "<div>\n",
       "<table border=\"1\" class=\"dataframe\">\n",
       "  <thead>\n",
       "    <tr style=\"text-align: right;\">\n",
       "      <th></th>\n",
       "      <th>accuracy</th>\n",
       "      <th>total_energy</th>\n",
       "      <th>peak_power</th>\n",
       "      <th>time</th>\n",
       "      <th>params</th>\n",
       "      <th>multiplies</th>\n",
       "    </tr>\n",
       "    <tr>\n",
       "      <th>model</th>\n",
       "      <th></th>\n",
       "      <th></th>\n",
       "      <th></th>\n",
       "      <th></th>\n",
       "      <th></th>\n",
       "      <th></th>\n",
       "    </tr>\n",
       "  </thead>\n",
       "  <tbody>\n",
       "    <tr>\n",
       "      <th>cnn_one_fstride4</th>\n",
       "      <td>70.28</td>\n",
       "      <td>9.79</td>\n",
       "      <td>0.99</td>\n",
       "      <td>9.97</td>\n",
       "      <td>220000</td>\n",
       "      <td>1430000</td>\n",
       "    </tr>\n",
       "    <tr>\n",
       "      <th>cnn_one_fstride8</th>\n",
       "      <td>67.90</td>\n",
       "      <td>10.32</td>\n",
       "      <td>1.02</td>\n",
       "      <td>11.79</td>\n",
       "      <td>337000</td>\n",
       "      <td>1430000</td>\n",
       "    </tr>\n",
       "    <tr>\n",
       "      <th>cnn_tpool2</th>\n",
       "      <td>91.97</td>\n",
       "      <td>364.90</td>\n",
       "      <td>2.21</td>\n",
       "      <td>173.39</td>\n",
       "      <td>1090000</td>\n",
       "      <td>103000000</td>\n",
       "    </tr>\n",
       "    <tr>\n",
       "      <th>cnn_tpool3</th>\n",
       "      <td>91.23</td>\n",
       "      <td>259.69</td>\n",
       "      <td>2.16</td>\n",
       "      <td>127.97</td>\n",
       "      <td>823000</td>\n",
       "      <td>73700000</td>\n",
       "    </tr>\n",
       "    <tr>\n",
       "      <th>cnn_trad_fpool3</th>\n",
       "      <td>89.43</td>\n",
       "      <td>411.49</td>\n",
       "      <td>2.20</td>\n",
       "      <td>195.75</td>\n",
       "      <td>1370000</td>\n",
       "      <td>125000000</td>\n",
       "    </tr>\n",
       "    <tr>\n",
       "      <th>google-speech-dataset-compact</th>\n",
       "      <td>77.06</td>\n",
       "      <td>94.12</td>\n",
       "      <td>1.52</td>\n",
       "      <td>67.92</td>\n",
       "      <td>964000</td>\n",
       "      <td>5760000</td>\n",
       "    </tr>\n",
       "    <tr>\n",
       "      <th>google-speech-dataset-full</th>\n",
       "      <td>87.51</td>\n",
       "      <td>287.18</td>\n",
       "      <td>2.60</td>\n",
       "      <td>114.47</td>\n",
       "      <td>1380000</td>\n",
       "      <td>98800000</td>\n",
       "    </tr>\n",
       "  </tbody>\n",
       "</table>\n",
       "</div>"
      ],
      "text/plain": [
       "                               accuracy  total_energy  peak_power    time  \\\n",
       "model                                                                       \n",
       "cnn_one_fstride4                  70.28          9.79        0.99    9.97   \n",
       "cnn_one_fstride8                  67.90         10.32        1.02   11.79   \n",
       "cnn_tpool2                        91.97        364.90        2.21  173.39   \n",
       "cnn_tpool3                        91.23        259.69        2.16  127.97   \n",
       "cnn_trad_fpool3                   89.43        411.49        2.20  195.75   \n",
       "google-speech-dataset-compact     77.06         94.12        1.52   67.92   \n",
       "google-speech-dataset-full        87.51        287.18        2.60  114.47   \n",
       "\n",
       "                                params  multiplies  \n",
       "model                                               \n",
       "cnn_one_fstride4                220000     1430000  \n",
       "cnn_one_fstride8                337000     1430000  \n",
       "cnn_tpool2                     1090000   103000000  \n",
       "cnn_tpool3                      823000    73700000  \n",
       "cnn_trad_fpool3                1370000   125000000  \n",
       "google-speech-dataset-compact   964000     5760000  \n",
       "google-speech-dataset-full     1380000    98800000  "
      ]
     },
     "execution_count": 16,
     "metadata": {},
     "output_type": "execute_result"
    }
   ],
   "source": [
    "df_inf_only = df_grouped_means - df_pre_grouped_means\n",
    "df_inf_only['peak_power'] = df_grouped_means['peak_power']\n",
    "df_inf_only['params'] = df_grouped_means['params']\n",
    "df_inf_only['multiplies'] = df_grouped_means['multiplies']\n",
    "df_inf_only.round(2)"
   ]
  },
  {
   "cell_type": "code",
   "execution_count": 17,
   "metadata": {
    "collapsed": false
   },
   "outputs": [
    {
     "data": {
      "image/png": "[encoded data removed]",
      "text/plain": [
       "<matplotlib.figure.Figure at 0x114aafb38>"
      ]
     },
     "metadata": {},
     "output_type": "display_data"
    },
    {
     "data": {
      "image/png": "[encoded data removed]",
      "text/plain": [
       "<matplotlib.figure.Figure at 0x114afd8d0>"
      ]
     },
     "metadata": {},
     "output_type": "display_data"
    }
   ],
   "source": [
    "dims = (14, 6)\n",
    "fig, ax = plt.subplots(figsize=dims)\n",
    "g = sns.factorplot(x=\"accuracy\", y=\"total_energy\", hue=\"model\", data=df, ax=ax)\n",
    "g.set(xlim=(0, None), ylim=(0, None))\n",
    "for ind, label in enumerate(ax.get_xticklabels()):\n",
    "    if ind % 10 == 0:  # every 10th label is kept\n",
    "        label.set_visible(True)\n",
    "    else:\n",
    "        label.set_visible(False)"
   ]
  },
  {
   "cell_type": "markdown",
   "metadata": {
    "collapsed": false
   },
   "source": [
    "# Visualizations"
   ]
  },
  {
   "cell_type": "markdown",
   "metadata": {},
   "source": [
    "## Energy vs. Multiplies"
   ]
  },
  {
   "cell_type": "code",
   "execution_count": 18,
   "metadata": {
    "collapsed": false
   },
   "outputs": [],
   "source": [
    "df_inf_aggregated = df_inf_only.reset_index()"
   ]
  },
  {
   "cell_type": "code",
   "execution_count": 19,
   "metadata": {
    "collapsed": false
   },
   "outputs": [
    {
     "data": {
      "image/png": "[encoded data removed]",
      "text/plain": [
       "<matplotlib.figure.Figure at 0x114ab5ba8>"
      ]
     },
     "metadata": {},
     "output_type": "display_data"
    }
   ],
   "source": [
    "ax = sns.regplot(x=df['params'], y=df['total_energy'])"
   ]
  },
  {
   "cell_type": "code",
   "execution_count": 20,
   "metadata": {
    "collapsed": false
   },
   "outputs": [
    {
     "data": {
      "image/png": "[encoded data removed]",
      "text/plain": [
       "<matplotlib.figure.Figure at 0x11543dfd0>"
      ]
     },
     "metadata": {},
     "output_type": "display_data"
    }
   ],
   "source": [
    "ax = sns.regplot(x=df['multiplies'], y=df['total_energy'])"
   ]
  },
  {
   "cell_type": "code",
   "execution_count": 21,
   "metadata": {
    "collapsed": true
   },
   "outputs": [],
   "source": [
    "df.to_csv('observations.csv', index=False)"
   ]
  },
  {
   "cell_type": "code",
   "execution_count": 22,
   "metadata": {
    "collapsed": true
   },
   "outputs": [],
   "source": [
    "df_inf_aggregated.to_csv('observations_agg.csv', index=False)"
   ]
  },
  {
   "cell_type": "code",
   "execution_count": null,
   "metadata": {
    "collapsed": true
   },
   "outputs": [],
   "source": []
  }
 ],
 "metadata": {
  "kernelspec": {
   "display_name": "Python 3",
   "language": "python",
   "name": "python3"
  },
  "language_info": {
   "codemirror_mode": {
    "name": "ipython",
    "version": 3
   },
   "file_extension": ".py",
   "mimetype": "text/x-python",
   "name": "python",
   "nbconvert_exporter": "python",
   "pygments_lexer": "ipython3",
   "version": "3.6.0"
  }
 },
 "nbformat": 4,
 "nbformat_minor": 2
}
